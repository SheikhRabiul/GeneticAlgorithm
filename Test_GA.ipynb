{
 "cells": [
  {
   "cell_type": "code",
   "execution_count": 1,
   "metadata": {},
   "outputs": [],
   "source": [
    "from GeneticAlgorithm import GeneticAlgorithm\n",
    "from sklearn.ensemble import RandomForestClassifier\n",
    "import numpy as np\n",
    "import pandas as pd"
   ]
  },
  {
   "cell_type": "code",
   "execution_count": 2,
   "metadata": {},
   "outputs": [],
   "source": [
    "feature_df = pd.read_csv('Features_test.dat')\n",
    "Y = pd.get_dummies(feature_df['activityID'],drop_first=True)\n",
    "X = feature_df.drop(['activityID'],axis=1)\n",
    "RF = RandomForestClassifier(n_estimators=1,min_samples_split=2,min_samples_leaf=1)\n",
    "GA = GeneticAlgorithm(X,Y,RF)"
   ]
  },
  {
   "cell_type": "code",
   "execution_count": null,
   "metadata": {},
   "outputs": [
    {
     "name": "stdout",
     "output_type": "stream",
     "text": [
      "GeneticAlgorithm: Testing generation 1\n",
      "GeneticAlgorithm: Testing generation 2\n",
      "GeneticAlgorithm: Testing generation 3\n",
      "GeneticAlgorithm: Testing generation 4\n",
      "GeneticAlgorithm: Testing generation 5\n",
      "GeneticAlgorithm: Testing generation 6\n",
      "GeneticAlgorithm: Testing generation 7\n",
      "GeneticAlgorithm: Testing generation 8\n",
      "GeneticAlgorithm: Testing generation 9\n",
      "GeneticAlgorithm: Testing generation 10\n",
      "GeneticAlgorithm: Testing generation 11\n",
      "GeneticAlgorithm: Testing generation 12\n",
      "GeneticAlgorithm: Testing generation 13\n",
      "GeneticAlgorithm: Testing generation 14\n"
     ]
    }
   ],
   "source": [
    "GA.fit()"
   ]
  },
  {
   "cell_type": "code",
   "execution_count": null,
   "metadata": {},
   "outputs": [],
   "source": []
  }
 ],
 "metadata": {
  "kernelspec": {
   "display_name": "Python 3",
   "language": "python",
   "name": "python3"
  },
  "language_info": {
   "codemirror_mode": {
    "name": "ipython",
    "version": 3
   },
   "file_extension": ".py",
   "mimetype": "text/x-python",
   "name": "python",
   "nbconvert_exporter": "python",
   "pygments_lexer": "ipython3",
   "version": "3.6.4"
  }
 },
 "nbformat": 4,
 "nbformat_minor": 2
}
